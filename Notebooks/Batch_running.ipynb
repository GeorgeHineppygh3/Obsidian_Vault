{
 "cells": [
  {
   "attachments": {},
   "cell_type": "markdown",
   "metadata": {},
   "source": [
    "## Notebook for the execution of ficl on lists of fits files"
   ]
  },
  {
   "cell_type": "code",
   "execution_count": null,
   "metadata": {},
   "outputs": [],
   "source": [
    "import sys\n",
    "sys.path.append('..')"
   ]
  },
  {
   "cell_type": "code",
   "execution_count": null,
   "metadata": {},
   "outputs": [],
   "source": [
    "import os\n",
    "os.environ['XLA_PYTHON_CLIENT_PREALLOCATE'] = 'false'"
   ]
  },
  {
   "cell_type": "code",
   "execution_count": null,
   "metadata": {},
   "outputs": [],
   "source": [
    "from gax import sersic\n",
    "from gax.sersic import sersic_2d_linear_pix\n",
    "from matplotlib import pyplot as plt\n",
    "import jax\n",
    "import jax.numpy as jnp\n",
    "import astropy\n",
    "import numpy as np\n",
    "from astropy.table import Table, vstack\n",
    "import gax.gax_fits as gfits\n",
    "from astropy.io import fits\n",
    "\n",
    "bands = np.array(['u','g','r','i','z'])"
   ]
  },
  {
   "cell_type": "code",
   "execution_count": null,
   "metadata": {},
   "outputs": [],
   "source": [
    "file = gfits.remove_band_info('587722981742149718ia.fits.gz')\n",
    "file"
   ]
  },
  {
   "cell_type": "code",
   "execution_count": null,
   "metadata": {},
   "outputs": [],
   "source": [
    "# Open master fits and filter by face on spirals:\n",
    "# Define location\n",
    "path = '/home/borge/Data/gz2and1master.fits.gz'\n",
    "# Access file\n",
    "hdul = fits.open(path)\n",
    "\n",
    "# Access Data\n",
    "data = hdul[1].data\n",
    "\n",
    "# create masks for extraction \n",
    "mask_gz1 = data['gz1_arms_clean'] == True\n",
    "mask_gz2 = data['gz2_arms_clean'] == True\n",
    "# combine masks\n",
    "mask = mask_gz1 + mask_gz2\n",
    "# apply mask to data\n",
    "face_on_master_fits = data[mask]\n",
    "\n",
    "# Import GZ2 Master fits\n",
    "good_spiral_filename_list = np.loadtxt('/home/borge/ficl/good_spirals/selected_good_spirals.txt',dtype=str)\n",
    "\n",
    "# Clean list for processing\n",
    "good_spiral_list = np.empty_like(good_spiral_filename_list)\n",
    "for i in range(0,len(good_spiral_list)):\n",
    "    good_spiral_list[i] = gfits.remove_band_info(good_spiral_filename_list[i])\n",
    "\n",
    "# Filter data using list\n",
    "good_spiral_data = data[np.in1d(data['OBJID'], good_spiral_list)]"
   ]
  },
  {
   "cell_type": "code",
   "execution_count": null,
   "metadata": {},
   "outputs": [],
   "source": [
    "good_spiral_filename_list"
   ]
  },
  {
   "cell_type": "code",
   "execution_count": null,
   "metadata": {},
   "outputs": [],
   "source": [
    "len(good_spiral_filename_list)*5"
   ]
  },
  {
   "cell_type": "code",
   "execution_count": null,
   "metadata": {},
   "outputs": [],
   "source": [
    "# Load in Batch of test files:\n",
    "test_batch_list = np.loadtxt('/home/borge/Data/Test_batch/Folder_list.txt',dtype=str)\n",
    "\n",
    "# Run command line function specifying input and output folders\n",
    "gfits.command_line_file_list_run(test_batch_list[2:11],'/home/borge/Data/Test_batch','/home/borge/Data/Config_files','/home/borge/Data/Output_Data/Test_batch_output')"
   ]
  },
  {
   "cell_type": "code",
   "execution_count": null,
   "metadata": {},
   "outputs": [],
   "source": [
    "## string\n"
   ]
  },
  {
   "cell_type": "code",
   "execution_count": null,
   "metadata": {},
   "outputs": [],
   "source": []
  }
 ],
 "metadata": {
  "kernelspec": {
   "display_name": "ficl",
   "language": "python",
   "name": "python3"
  },
  "language_info": {
   "codemirror_mode": {
    "name": "ipython",
    "version": 3
   },
   "file_extension": ".py",
   "mimetype": "text/x-python",
   "name": "python",
   "nbconvert_exporter": "python",
   "pygments_lexer": "ipython3",
   "version": "3.10.9"
  },
  "orig_nbformat": 4
 },
 "nbformat": 4,
 "nbformat_minor": 2
}
